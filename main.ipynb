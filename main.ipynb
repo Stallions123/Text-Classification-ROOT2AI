{
 "cells": [
  {
   "cell_type": "code",
   "execution_count": 28,
   "metadata": {},
   "outputs": [],
   "source": [
    "import pandas as pd"
   ]
  },
  {
   "cell_type": "code",
   "execution_count": 29,
   "metadata": {},
   "outputs": [],
   "source": [
    "df = pd.read_csv(\"root2ai - Data.csv\")"
   ]
  },
  {
   "cell_type": "code",
   "execution_count": 30,
   "metadata": {},
   "outputs": [
    {
     "data": {
      "text/html": [
       "<div>\n",
       "<style scoped>\n",
       "    .dataframe tbody tr th:only-of-type {\n",
       "        vertical-align: middle;\n",
       "    }\n",
       "\n",
       "    .dataframe tbody tr th {\n",
       "        vertical-align: top;\n",
       "    }\n",
       "\n",
       "    .dataframe thead th {\n",
       "        text-align: right;\n",
       "    }\n",
       "</style>\n",
       "<table border=\"1\" class=\"dataframe\">\n",
       "  <thead>\n",
       "    <tr style=\"text-align: right;\">\n",
       "      <th></th>\n",
       "      <th>Text</th>\n",
       "      <th>Target</th>\n",
       "    </tr>\n",
       "  </thead>\n",
       "  <tbody>\n",
       "    <tr>\n",
       "      <th>0</th>\n",
       "      <td>reserve bank forming expert committee based in...</td>\n",
       "      <td>Blockchain</td>\n",
       "    </tr>\n",
       "    <tr>\n",
       "      <th>1</th>\n",
       "      <td>director could play role financial system</td>\n",
       "      <td>Blockchain</td>\n",
       "    </tr>\n",
       "    <tr>\n",
       "      <th>2</th>\n",
       "      <td>preliminary discuss secure transaction study r...</td>\n",
       "      <td>Blockchain</td>\n",
       "    </tr>\n",
       "    <tr>\n",
       "      <th>3</th>\n",
       "      <td>security indeed prove essential transforming f...</td>\n",
       "      <td>Blockchain</td>\n",
       "    </tr>\n",
       "    <tr>\n",
       "      <th>4</th>\n",
       "      <td>bank settlement normally take three days based...</td>\n",
       "      <td>Blockchain</td>\n",
       "    </tr>\n",
       "  </tbody>\n",
       "</table>\n",
       "</div>"
      ],
      "text/plain": [
       "                                                Text      Target\n",
       "0  reserve bank forming expert committee based in...  Blockchain\n",
       "1          director could play role financial system  Blockchain\n",
       "2  preliminary discuss secure transaction study r...  Blockchain\n",
       "3  security indeed prove essential transforming f...  Blockchain\n",
       "4  bank settlement normally take three days based...  Blockchain"
      ]
     },
     "execution_count": 30,
     "metadata": {},
     "output_type": "execute_result"
    }
   ],
   "source": [
    "df.head()"
   ]
  },
  {
   "cell_type": "code",
   "execution_count": 31,
   "metadata": {},
   "outputs": [
    {
     "data": {
      "text/plain": [
       "FinTech             8551\n",
       "Cyber Security      2640\n",
       "Bigdata             2267\n",
       "Reg Tech            2206\n",
       "credit reporting    1748\n",
       "Blockchain          1375\n",
       "Neobanks            1069\n",
       "Microservices        977\n",
       "Stock Trading        787\n",
       "Robo Advising        737\n",
       "Data Security        347\n",
       "Name: Target, dtype: int64"
      ]
     },
     "execution_count": 31,
     "metadata": {},
     "output_type": "execute_result"
    }
   ],
   "source": [
    "df['Target'].value_counts()"
   ]
  },
  {
   "cell_type": "code",
   "execution_count": 32,
   "metadata": {},
   "outputs": [
    {
     "data": {
      "text/plain": [
       "Text      3\n",
       "Target    0\n",
       "dtype: int64"
      ]
     },
     "execution_count": 32,
     "metadata": {},
     "output_type": "execute_result"
    }
   ],
   "source": [
    "df.isnull().sum()"
   ]
  },
  {
   "cell_type": "code",
   "execution_count": 33,
   "metadata": {},
   "outputs": [
    {
     "data": {
      "text/html": [
       "<div>\n",
       "<style scoped>\n",
       "    .dataframe tbody tr th:only-of-type {\n",
       "        vertical-align: middle;\n",
       "    }\n",
       "\n",
       "    .dataframe tbody tr th {\n",
       "        vertical-align: top;\n",
       "    }\n",
       "\n",
       "    .dataframe thead th {\n",
       "        text-align: right;\n",
       "    }\n",
       "</style>\n",
       "<table border=\"1\" class=\"dataframe\">\n",
       "  <thead>\n",
       "    <tr style=\"text-align: right;\">\n",
       "      <th></th>\n",
       "      <th>Text</th>\n",
       "      <th>Target</th>\n",
       "    </tr>\n",
       "  </thead>\n",
       "  <tbody>\n",
       "    <tr>\n",
       "      <th>0</th>\n",
       "      <td>reserve bank forming expert committee based in...</td>\n",
       "      <td>Blockchain</td>\n",
       "    </tr>\n",
       "    <tr>\n",
       "      <th>1</th>\n",
       "      <td>director could play role financial system</td>\n",
       "      <td>Blockchain</td>\n",
       "    </tr>\n",
       "    <tr>\n",
       "      <th>2</th>\n",
       "      <td>preliminary discuss secure transaction study r...</td>\n",
       "      <td>Blockchain</td>\n",
       "    </tr>\n",
       "    <tr>\n",
       "      <th>3</th>\n",
       "      <td>security indeed prove essential transforming f...</td>\n",
       "      <td>Blockchain</td>\n",
       "    </tr>\n",
       "    <tr>\n",
       "      <th>4</th>\n",
       "      <td>bank settlement normally take three days based...</td>\n",
       "      <td>Blockchain</td>\n",
       "    </tr>\n",
       "    <tr>\n",
       "      <th>...</th>\n",
       "      <td>...</td>\n",
       "      <td>...</td>\n",
       "    </tr>\n",
       "    <tr>\n",
       "      <th>22699</th>\n",
       "      <td>fourth study discusses blockchain technology e...</td>\n",
       "      <td>Reg Tech</td>\n",
       "    </tr>\n",
       "    <tr>\n",
       "      <th>22700</th>\n",
       "      <td>book finishes stating biggest issue emerging F...</td>\n",
       "      <td>Reg Tech</td>\n",
       "    </tr>\n",
       "    <tr>\n",
       "      <th>22701</th>\n",
       "      <td>people culture cess</td>\n",
       "      <td>Reg Tech</td>\n",
       "    </tr>\n",
       "    <tr>\n",
       "      <th>22702</th>\n",
       "      <td>author challenges execu tive lead change stop ...</td>\n",
       "      <td>Reg Tech</td>\n",
       "    </tr>\n",
       "    <tr>\n",
       "      <th>22703</th>\n",
       "      <td>change data driven culture come bottom must start</td>\n",
       "      <td>Reg Tech</td>\n",
       "    </tr>\n",
       "  </tbody>\n",
       "</table>\n",
       "<p>22701 rows × 2 columns</p>\n",
       "</div>"
      ],
      "text/plain": [
       "                                                    Text      Target\n",
       "0      reserve bank forming expert committee based in...  Blockchain\n",
       "1              director could play role financial system  Blockchain\n",
       "2      preliminary discuss secure transaction study r...  Blockchain\n",
       "3      security indeed prove essential transforming f...  Blockchain\n",
       "4      bank settlement normally take three days based...  Blockchain\n",
       "...                                                  ...         ...\n",
       "22699  fourth study discusses blockchain technology e...    Reg Tech\n",
       "22700  book finishes stating biggest issue emerging F...    Reg Tech\n",
       "22701                                people culture cess    Reg Tech\n",
       "22702  author challenges execu tive lead change stop ...    Reg Tech\n",
       "22703  change data driven culture come bottom must start    Reg Tech\n",
       "\n",
       "[22701 rows x 2 columns]"
      ]
     },
     "execution_count": 33,
     "metadata": {},
     "output_type": "execute_result"
    }
   ],
   "source": [
    "df.dropna()"
   ]
  },
  {
   "cell_type": "code",
   "execution_count": 34,
   "metadata": {},
   "outputs": [],
   "source": [
    "df.reset_index(inplace=True)"
   ]
  },
  {
   "cell_type": "code",
   "execution_count": 35,
   "metadata": {},
   "outputs": [
    {
     "data": {
      "text/plain": [
       "(22704, 3)"
      ]
     },
     "execution_count": 35,
     "metadata": {},
     "output_type": "execute_result"
    }
   ],
   "source": [
    "df.shape"
   ]
  },
  {
   "cell_type": "code",
   "execution_count": 36,
   "metadata": {},
   "outputs": [],
   "source": [
    "#Label encoding the target feature categoories\n",
    "dictionary = {'FinTech':1,'Cyber Security':2,'Bigdata':3,'Reg Tech':4,'credit reporting':5,'Blockchain':6,'Neobanks':7,'Microservices':8,'Stock Trading':9,'Robo Advising':10,'Data Security':11}\n",
    "df['Target_encode'] = df['Target'].map(dictionary)\n",
    "df.drop('Target',axis = 1,inplace=True)"
   ]
  },
  {
   "cell_type": "code",
   "execution_count": 37,
   "metadata": {},
   "outputs": [
    {
     "data": {
      "text/html": [
       "<div>\n",
       "<style scoped>\n",
       "    .dataframe tbody tr th:only-of-type {\n",
       "        vertical-align: middle;\n",
       "    }\n",
       "\n",
       "    .dataframe tbody tr th {\n",
       "        vertical-align: top;\n",
       "    }\n",
       "\n",
       "    .dataframe thead th {\n",
       "        text-align: right;\n",
       "    }\n",
       "</style>\n",
       "<table border=\"1\" class=\"dataframe\">\n",
       "  <thead>\n",
       "    <tr style=\"text-align: right;\">\n",
       "      <th></th>\n",
       "      <th>index</th>\n",
       "      <th>Text</th>\n",
       "      <th>Target_encode</th>\n",
       "    </tr>\n",
       "  </thead>\n",
       "  <tbody>\n",
       "    <tr>\n",
       "      <th>0</th>\n",
       "      <td>0</td>\n",
       "      <td>reserve bank forming expert committee based in...</td>\n",
       "      <td>6</td>\n",
       "    </tr>\n",
       "    <tr>\n",
       "      <th>1</th>\n",
       "      <td>1</td>\n",
       "      <td>director could play role financial system</td>\n",
       "      <td>6</td>\n",
       "    </tr>\n",
       "    <tr>\n",
       "      <th>2</th>\n",
       "      <td>2</td>\n",
       "      <td>preliminary discuss secure transaction study r...</td>\n",
       "      <td>6</td>\n",
       "    </tr>\n",
       "    <tr>\n",
       "      <th>3</th>\n",
       "      <td>3</td>\n",
       "      <td>security indeed prove essential transforming f...</td>\n",
       "      <td>6</td>\n",
       "    </tr>\n",
       "    <tr>\n",
       "      <th>4</th>\n",
       "      <td>4</td>\n",
       "      <td>bank settlement normally take three days based...</td>\n",
       "      <td>6</td>\n",
       "    </tr>\n",
       "  </tbody>\n",
       "</table>\n",
       "</div>"
      ],
      "text/plain": [
       "   index                                               Text  Target_encode\n",
       "0      0  reserve bank forming expert committee based in...              6\n",
       "1      1          director could play role financial system              6\n",
       "2      2  preliminary discuss secure transaction study r...              6\n",
       "3      3  security indeed prove essential transforming f...              6\n",
       "4      4  bank settlement normally take three days based...              6"
      ]
     },
     "execution_count": 37,
     "metadata": {},
     "output_type": "execute_result"
    }
   ],
   "source": [
    "df.head()"
   ]
  },
  {
   "cell_type": "code",
   "execution_count": 38,
   "metadata": {},
   "outputs": [],
   "source": [
    "df.drop('index',axis=1,inplace=True)"
   ]
  },
  {
   "cell_type": "code",
   "execution_count": 39,
   "metadata": {},
   "outputs": [
    {
     "data": {
      "text/plain": [
       "(22704, 2)"
      ]
     },
     "execution_count": 39,
     "metadata": {},
     "output_type": "execute_result"
    }
   ],
   "source": [
    "df.shape"
   ]
  },
  {
   "cell_type": "code",
   "execution_count": 40,
   "metadata": {},
   "outputs": [
    {
     "name": "stdout",
     "output_type": "stream",
     "text": [
      "<class 'pandas.core.frame.DataFrame'>\n",
      "RangeIndex: 22704 entries, 0 to 22703\n",
      "Data columns (total 2 columns):\n",
      " #   Column         Non-Null Count  Dtype \n",
      "---  ------         --------------  ----- \n",
      " 0   Text           22701 non-null  object\n",
      " 1   Target_encode  22704 non-null  int64 \n",
      "dtypes: int64(1), object(1)\n",
      "memory usage: 354.9+ KB\n"
     ]
    }
   ],
   "source": [
    "df.info()"
   ]
  },
  {
   "cell_type": "code",
   "execution_count": 41,
   "metadata": {},
   "outputs": [],
   "source": [
    "import nltk\n",
    "from nltk.corpus import stopwords\n",
    "from nltk.stem.porter import PorterStemmer\n",
    "import re\n",
    "ps = PorterStemmer()\n",
    "corpus = []\n",
    "for i in range(0, len(df)):\n",
    "    review = re.sub('[^a-zA-Z]', ' ', str(df['Text'][i]))\n",
    "    review = review.lower()\n",
    "    review = review.split()\n",
    "    \n",
    "    review = [ps.stem(word) for word in review if not word in stopwords.words('english')]\n",
    "    review = ' '.join(review)\n",
    "    corpus.append(review)"
   ]
  },
  {
   "cell_type": "code",
   "execution_count": 42,
   "metadata": {},
   "outputs": [],
   "source": [
    "## Applying Countvectorizer\n",
    "# Creating the Bag of Words model\n",
    "from sklearn.feature_extraction.text import CountVectorizer\n",
    "cv = CountVectorizer()\n",
    "X = cv.fit_transform(corpus).toarray()"
   ]
  },
  {
   "cell_type": "code",
   "execution_count": 43,
   "metadata": {},
   "outputs": [
    {
     "data": {
      "text/plain": [
       "(22704, 7581)"
      ]
     },
     "execution_count": 43,
     "metadata": {},
     "output_type": "execute_result"
    }
   ],
   "source": [
    "#Get the filter out text of dependent and independent features\n",
    "X.shape"
   ]
  },
  {
   "cell_type": "code",
   "execution_count": 44,
   "metadata": {},
   "outputs": [],
   "source": [
    "y = df['Target_encode']"
   ]
  },
  {
   "cell_type": "code",
   "execution_count": 45,
   "metadata": {},
   "outputs": [
    {
     "data": {
      "text/plain": [
       "(22704,)"
      ]
     },
     "execution_count": 45,
     "metadata": {},
     "output_type": "execute_result"
    }
   ],
   "source": [
    "y.shape"
   ]
  },
  {
   "cell_type": "code",
   "execution_count": 46,
   "metadata": {},
   "outputs": [],
   "source": [
    "## Divide the dataset into Train and Test\n",
    "from sklearn.model_selection import train_test_split\n",
    "X_train, X_test, y_train, y_test = train_test_split(X, y, test_size=0.33, random_state=0)"
   ]
  },
  {
   "cell_type": "code",
   "execution_count": 47,
   "metadata": {},
   "outputs": [
    {
     "data": {
      "text/plain": [
       "['abak',\n",
       " 'abandon',\n",
       " 'abash',\n",
       " 'abbeel',\n",
       " 'abc',\n",
       " 'abduct',\n",
       " 'abdullah',\n",
       " 'abhijit',\n",
       " 'abid',\n",
       " 'abil',\n",
       " 'abl',\n",
       " 'abnorm',\n",
       " 'aboard',\n",
       " 'abolit',\n",
       " 'abound',\n",
       " 'abreast',\n",
       " 'abroad',\n",
       " 'absenc',\n",
       " 'absid',\n",
       " 'absolut']"
      ]
     },
     "execution_count": 47,
     "metadata": {},
     "output_type": "execute_result"
    }
   ],
   "source": [
    "cv.get_feature_names()[:20]"
   ]
  },
  {
   "cell_type": "code",
   "execution_count": 48,
   "metadata": {},
   "outputs": [
    {
     "data": {
      "text/plain": [
       "{'analyzer': 'word',\n",
       " 'binary': False,\n",
       " 'decode_error': 'strict',\n",
       " 'dtype': numpy.int64,\n",
       " 'encoding': 'utf-8',\n",
       " 'input': 'content',\n",
       " 'lowercase': True,\n",
       " 'max_df': 1.0,\n",
       " 'max_features': None,\n",
       " 'min_df': 1,\n",
       " 'ngram_range': (1, 1),\n",
       " 'preprocessor': None,\n",
       " 'stop_words': None,\n",
       " 'strip_accents': None,\n",
       " 'token_pattern': '(?u)\\\\b\\\\w\\\\w+\\\\b',\n",
       " 'tokenizer': None,\n",
       " 'vocabulary': None}"
      ]
     },
     "execution_count": 48,
     "metadata": {},
     "output_type": "execute_result"
    }
   ],
   "source": [
    "cv.get_params()"
   ]
  },
  {
   "cell_type": "code",
   "execution_count": 49,
   "metadata": {},
   "outputs": [],
   "source": [
    "count_df = pd.DataFrame(X_train, columns=cv.get_feature_names())"
   ]
  },
  {
   "cell_type": "code",
   "execution_count": 50,
   "metadata": {},
   "outputs": [
    {
     "data": {
      "text/html": [
       "<div>\n",
       "<style scoped>\n",
       "    .dataframe tbody tr th:only-of-type {\n",
       "        vertical-align: middle;\n",
       "    }\n",
       "\n",
       "    .dataframe tbody tr th {\n",
       "        vertical-align: top;\n",
       "    }\n",
       "\n",
       "    .dataframe thead th {\n",
       "        text-align: right;\n",
       "    }\n",
       "</style>\n",
       "<table border=\"1\" class=\"dataframe\">\n",
       "  <thead>\n",
       "    <tr style=\"text-align: right;\">\n",
       "      <th></th>\n",
       "      <th>abak</th>\n",
       "      <th>abandon</th>\n",
       "      <th>abash</th>\n",
       "      <th>abbeel</th>\n",
       "      <th>abc</th>\n",
       "      <th>abduct</th>\n",
       "      <th>abdullah</th>\n",
       "      <th>abhijit</th>\n",
       "      <th>abid</th>\n",
       "      <th>abil</th>\n",
       "      <th>...</th>\n",
       "      <th>zhou</th>\n",
       "      <th>zine</th>\n",
       "      <th>zing</th>\n",
       "      <th>zipss</th>\n",
       "      <th>zmlg</th>\n",
       "      <th>zone</th>\n",
       "      <th>zoom</th>\n",
       "      <th>zrev</th>\n",
       "      <th>zurich</th>\n",
       "      <th>zxnglqu</th>\n",
       "    </tr>\n",
       "  </thead>\n",
       "  <tbody>\n",
       "    <tr>\n",
       "      <th>0</th>\n",
       "      <td>0</td>\n",
       "      <td>0</td>\n",
       "      <td>0</td>\n",
       "      <td>0</td>\n",
       "      <td>0</td>\n",
       "      <td>0</td>\n",
       "      <td>0</td>\n",
       "      <td>0</td>\n",
       "      <td>0</td>\n",
       "      <td>0</td>\n",
       "      <td>...</td>\n",
       "      <td>0</td>\n",
       "      <td>0</td>\n",
       "      <td>0</td>\n",
       "      <td>0</td>\n",
       "      <td>0</td>\n",
       "      <td>0</td>\n",
       "      <td>0</td>\n",
       "      <td>0</td>\n",
       "      <td>0</td>\n",
       "      <td>0</td>\n",
       "    </tr>\n",
       "    <tr>\n",
       "      <th>1</th>\n",
       "      <td>0</td>\n",
       "      <td>0</td>\n",
       "      <td>0</td>\n",
       "      <td>0</td>\n",
       "      <td>0</td>\n",
       "      <td>0</td>\n",
       "      <td>0</td>\n",
       "      <td>0</td>\n",
       "      <td>0</td>\n",
       "      <td>0</td>\n",
       "      <td>...</td>\n",
       "      <td>0</td>\n",
       "      <td>0</td>\n",
       "      <td>0</td>\n",
       "      <td>0</td>\n",
       "      <td>0</td>\n",
       "      <td>0</td>\n",
       "      <td>0</td>\n",
       "      <td>0</td>\n",
       "      <td>0</td>\n",
       "      <td>0</td>\n",
       "    </tr>\n",
       "    <tr>\n",
       "      <th>2</th>\n",
       "      <td>0</td>\n",
       "      <td>0</td>\n",
       "      <td>0</td>\n",
       "      <td>0</td>\n",
       "      <td>0</td>\n",
       "      <td>0</td>\n",
       "      <td>0</td>\n",
       "      <td>0</td>\n",
       "      <td>0</td>\n",
       "      <td>0</td>\n",
       "      <td>...</td>\n",
       "      <td>0</td>\n",
       "      <td>0</td>\n",
       "      <td>0</td>\n",
       "      <td>0</td>\n",
       "      <td>0</td>\n",
       "      <td>0</td>\n",
       "      <td>0</td>\n",
       "      <td>0</td>\n",
       "      <td>0</td>\n",
       "      <td>0</td>\n",
       "    </tr>\n",
       "    <tr>\n",
       "      <th>3</th>\n",
       "      <td>0</td>\n",
       "      <td>0</td>\n",
       "      <td>0</td>\n",
       "      <td>0</td>\n",
       "      <td>0</td>\n",
       "      <td>0</td>\n",
       "      <td>0</td>\n",
       "      <td>0</td>\n",
       "      <td>0</td>\n",
       "      <td>0</td>\n",
       "      <td>...</td>\n",
       "      <td>0</td>\n",
       "      <td>0</td>\n",
       "      <td>0</td>\n",
       "      <td>0</td>\n",
       "      <td>0</td>\n",
       "      <td>0</td>\n",
       "      <td>0</td>\n",
       "      <td>0</td>\n",
       "      <td>0</td>\n",
       "      <td>0</td>\n",
       "    </tr>\n",
       "    <tr>\n",
       "      <th>4</th>\n",
       "      <td>0</td>\n",
       "      <td>0</td>\n",
       "      <td>0</td>\n",
       "      <td>0</td>\n",
       "      <td>0</td>\n",
       "      <td>0</td>\n",
       "      <td>0</td>\n",
       "      <td>0</td>\n",
       "      <td>0</td>\n",
       "      <td>0</td>\n",
       "      <td>...</td>\n",
       "      <td>0</td>\n",
       "      <td>0</td>\n",
       "      <td>0</td>\n",
       "      <td>0</td>\n",
       "      <td>0</td>\n",
       "      <td>0</td>\n",
       "      <td>0</td>\n",
       "      <td>0</td>\n",
       "      <td>0</td>\n",
       "      <td>0</td>\n",
       "    </tr>\n",
       "  </tbody>\n",
       "</table>\n",
       "<p>5 rows × 7581 columns</p>\n",
       "</div>"
      ],
      "text/plain": [
       "   abak  abandon  abash  abbeel  abc  abduct  abdullah  abhijit  abid  abil  \\\n",
       "0     0        0      0       0    0       0         0        0     0     0   \n",
       "1     0        0      0       0    0       0         0        0     0     0   \n",
       "2     0        0      0       0    0       0         0        0     0     0   \n",
       "3     0        0      0       0    0       0         0        0     0     0   \n",
       "4     0        0      0       0    0       0         0        0     0     0   \n",
       "\n",
       "   ...  zhou  zine  zing  zipss  zmlg  zone  zoom  zrev  zurich  zxnglqu  \n",
       "0  ...     0     0     0      0     0     0     0     0       0        0  \n",
       "1  ...     0     0     0      0     0     0     0     0       0        0  \n",
       "2  ...     0     0     0      0     0     0     0     0       0        0  \n",
       "3  ...     0     0     0      0     0     0     0     0       0        0  \n",
       "4  ...     0     0     0      0     0     0     0     0       0        0  \n",
       "\n",
       "[5 rows x 7581 columns]"
      ]
     },
     "execution_count": 50,
     "metadata": {},
     "output_type": "execute_result"
    }
   ],
   "source": [
    "count_df.head()"
   ]
  },
  {
   "cell_type": "markdown",
   "metadata": {},
   "source": [
    "# MultinomialNB Algorithm¶"
   ]
  },
  {
   "cell_type": "code",
   "execution_count": 51,
   "metadata": {},
   "outputs": [
    {
     "name": "stdout",
     "output_type": "stream",
     "text": [
      "accuracy:   0.633\n"
     ]
    }
   ],
   "source": [
    "from sklearn.naive_bayes import MultinomialNB\n",
    "classifier=MultinomialNB()\n",
    "from sklearn import metrics\n",
    "import numpy as np\n",
    "import itertools\n",
    "\n",
    "\n",
    "classifier.fit(X_train, y_train)\n",
    "pred = classifier.predict(X_test)\n",
    "score = metrics.accuracy_score(y_test, pred)\n",
    "print(\"accuracy:   %0.3f\" % score)"
   ]
  },
  {
   "cell_type": "markdown",
   "metadata": {},
   "source": [
    "# Multinomial Classifier with hyperparameter"
   ]
  },
  {
   "cell_type": "code",
   "execution_count": 35,
   "metadata": {},
   "outputs": [
    {
     "name": "stderr",
     "output_type": "stream",
     "text": [
      "C:\\Anacond_Install\\lib\\site-packages\\sklearn\\naive_bayes.py:507: UserWarning: alpha too small will result in numeric errors, setting alpha = 1.0e-10\n",
      "  'setting alpha = %.1e' % _ALPHA_MIN)\n"
     ]
    },
    {
     "name": "stdout",
     "output_type": "stream",
     "text": [
      "Alpha: 0.0, Score : 0.6112371546776992\n",
      "Alpha: 0.1, Score : 0.6456692913385826\n",
      "Alpha: 0.2, Score : 0.6459362071266516\n",
      "Alpha: 0.30000000000000004, Score : 0.6474042439610302\n",
      "Alpha: 0.4, Score : 0.6483384492192713\n",
      "Alpha: 0.5, Score : 0.6417990124115841\n",
      "Alpha: 0.6000000000000001, Score : 0.638996396636861\n",
      "Alpha: 0.7000000000000001, Score : 0.6381956492726545\n",
      "Alpha: 0.8, Score : 0.6375283598024823\n",
      "Alpha: 0.9, Score : 0.6341919124516215\n"
     ]
    }
   ],
   "source": [
    "classifier=MultinomialNB(alpha=0.1)\n",
    "\n",
    "\n",
    "previous_score=0\n",
    "for alpha in np.arange(0,1,0.1):\n",
    "    sub_classifier=MultinomialNB(alpha=alpha)\n",
    "    sub_classifier.fit(X_train,y_train)\n",
    "    y_pred=sub_classifier.predict(X_test)\n",
    "    score = metrics.accuracy_score(y_test, y_pred)\n",
    "    if score>previous_score:\n",
    "        classifier=sub_classifier\n",
    "    print(\"Alpha: {}, Score : {}\".format(alpha,score))"
   ]
  },
  {
   "cell_type": "code",
   "execution_count": 55,
   "metadata": {},
   "outputs": [
    {
     "name": "stdout",
     "output_type": "stream",
     "text": [
      "Collecting evalml\n",
      "  Using cached evalml-0.24.2-py3-none-any.whl (6.2 MB)\n",
      "Requirement already satisfied: scikit-learn>=0.24.0 in c:\\anacond_install\\lib\\site-packages (from evalml) (0.24.2)\n",
      "Requirement already satisfied: dask>=2.12.0 in c:\\anacond_install\\lib\\site-packages (from evalml) (2021.5.0)\n",
      "Requirement already satisfied: woodwork==0.0.11 in c:\\anacond_install\\lib\\site-packages (from evalml) (0.0.11)\n",
      "Collecting catboost>=0.20\n",
      "  Using cached catboost-0.25.1-cp37-none-win_amd64.whl (66.9 MB)\n",
      "Collecting texttable>=1.6.2\n",
      "  Using cached texttable-1.6.3-py2.py3-none-any.whl (10 kB)\n",
      "Requirement already satisfied: plotly>=4.14.0 in c:\\anacond_install\\lib\\site-packages (from evalml) (4.14.1)\n",
      "Collecting scikit-optimize>=0.8.1\n",
      "  Using cached scikit_optimize-0.8.1-py2.py3-none-any.whl (101 kB)\n",
      "Collecting category-encoders>=2.2.2\n",
      "  Using cached category_encoders-2.2.2-py2.py3-none-any.whl (80 kB)\n",
      "Collecting shap>=0.36.0\n",
      "  Using cached shap-0.39.0-cp37-cp37m-win_amd64.whl (414 kB)\n",
      "Requirement already satisfied: featuretools>=0.21.0 in c:\\anacond_install\\lib\\site-packages (from evalml) (0.24.0)\n",
      "Requirement already satisfied: psutil>=5.6.3 in c:\\anacond_install\\lib\\site-packages (from evalml) (5.6.7)\n",
      "Requirement already satisfied: pyzmq<22.0.0,>=20.0.0 in c:\\anacond_install\\lib\\site-packages (from evalml) (21.0.2)\n",
      "Requirement already satisfied: click>=7.1.2 in c:\\anacond_install\\lib\\site-packages (from evalml) (8.0.1)\n",
      "Collecting matplotlib>=3.3.3\n",
      "  Using cached matplotlib-3.4.2-cp37-cp37m-win_amd64.whl (7.1 MB)\n",
      "Collecting sktime>=0.5.3; python_version < \"3.9\"\n",
      "  Using cached sktime-0.6.1-cp37-cp37m-win_amd64.whl (4.4 MB)\n",
      "Requirement already satisfied: graphviz>=0.13 in c:\\anacond_install\\lib\\site-packages (from evalml) (0.16)\n",
      "Requirement already satisfied: ipywidgets>=7.5 in c:\\anacond_install\\lib\\site-packages (from evalml) (7.5.1)\n",
      "Processing c:\\users\\stallions dey\\appdata\\local\\pip\\cache\\wheels\\40\\e4\\ca\\8af24ee94c3863d620d6a52793d82930f4d1d3515a5121d495\\requirements_parser-0.2.0-py3-none-any.whl\n",
      "Requirement already satisfied: scipy>=1.3.3 in c:\\anacond_install\\lib\\site-packages (from evalml) (1.4.1)\n",
      "Requirement already satisfied: colorama>=0.4.4 in c:\\anacond_install\\lib\\site-packages (from evalml) (0.4.4)\n",
      "Requirement already satisfied: pandas>=1.2.1 in c:\\anacond_install\\lib\\site-packages (from evalml) (1.2.4)\n",
      "Collecting xgboost<1.3.0,>=1.1.0\n",
      "  Using cached xgboost-1.2.1-py3-none-win_amd64.whl (86.5 MB)\n",
      "Requirement already satisfied: nlp-primitives>=1.1.0 in c:\\anacond_install\\lib\\site-packages (from evalml) (1.1.0)\n",
      "Collecting pmdarima==1.8.0\n",
      "  Using cached pmdarima-1.8.0-cp37-cp37m-win_amd64.whl (609 kB)\n",
      "Requirement already satisfied: imbalanced-learn>=0.8.0 in c:\\anacond_install\\lib\\site-packages (from evalml) (0.8.0)\n",
      "Collecting seaborn>=0.11.1\n",
      "  Using cached seaborn-0.11.1-py3-none-any.whl (285 kB)\n",
      "Requirement already satisfied: numpy>=1.20.0 in c:\\anacond_install\\lib\\site-packages (from evalml) (1.20.3)\n",
      "Requirement already satisfied: kaleido>=0.1.0 in c:\\anacond_install\\lib\\site-packages (from evalml) (0.2.1)\n",
      "Requirement already satisfied: cloudpickle>=1.5.0 in c:\\anacond_install\\lib\\site-packages (from evalml) (1.6.0)\n",
      "Requirement already satisfied: statsmodels>=0.12.2 in c:\\anacond_install\\lib\\site-packages (from evalml) (0.12.2)\n",
      "Collecting lightgbm<3.1.0,>=2.3.1\n",
      "  Using cached lightgbm-3.0.0-py2.py3-none-win_amd64.whl (737 kB)\n",
      "Requirement already satisfied: networkx>=2.5 in c:\\anacond_install\\lib\\site-packages (from evalml) (2.5.1)\n",
      "Requirement already satisfied: joblib>=0.11 in c:\\anacond_install\\lib\\site-packages (from scikit-learn>=0.24.0->evalml) (0.14.1)\n",
      "Requirement already satisfied: threadpoolctl>=2.0.0 in c:\\anacond_install\\lib\\site-packages (from scikit-learn>=0.24.0->evalml) (2.1.0)\n",
      "Requirement already satisfied: fsspec>=0.6.0 in c:\\anacond_install\\lib\\site-packages (from dask>=2.12.0->evalml) (0.6.2)\n",
      "Requirement already satisfied: toolz>=0.8.2 in c:\\anacond_install\\lib\\site-packages (from dask>=2.12.0->evalml) (0.10.0)\n",
      "Requirement already satisfied: pyyaml in c:\\anacond_install\\lib\\site-packages (from dask>=2.12.0->evalml) (5.3)\n",
      "Requirement already satisfied: partd>=0.3.10 in c:\\anacond_install\\lib\\site-packages (from dask>=2.12.0->evalml) (1.1.0)\n",
      "Requirement already satisfied: six in c:\\anacond_install\\lib\\site-packages (from catboost>=0.20->evalml) (1.14.0)\n",
      "Requirement already satisfied: retrying>=1.3.3 in c:\\anacond_install\\lib\\site-packages (from plotly>=4.14.0->evalml) (1.3.3)\n",
      "Collecting pyaml>=16.9\n",
      "  Using cached pyaml-20.4.0-py2.py3-none-any.whl (17 kB)\n",
      "Requirement already satisfied: patsy>=0.5.1 in c:\\anacond_install\\lib\\site-packages (from category-encoders>=2.2.2->evalml) (0.5.1)\n",
      "Collecting slicer==0.0.7\n",
      "  Using cached slicer-0.0.7-py3-none-any.whl (14 kB)\n",
      "Requirement already satisfied: numba in c:\\anacond_install\\lib\\site-packages (from shap>=0.36.0->evalml) (0.48.0)\n",
      "Requirement already satisfied: tqdm>4.25.0 in c:\\anacond_install\\lib\\site-packages (from shap>=0.36.0->evalml) (4.60.0)\n",
      "Requirement already satisfied: distributed>=2.12.0 in c:\\anacond_install\\lib\\site-packages (from featuretools>=0.21.0->evalml) (2021.5.0)\n",
      "Requirement already satisfied: importlib-metadata; python_version < \"3.8\" in c:\\anacond_install\\lib\\site-packages (from click>=7.1.2->evalml) (2.0.0)\n",
      "Requirement already satisfied: pyparsing>=2.2.1 in c:\\anacond_install\\lib\\site-packages (from matplotlib>=3.3.3->evalml) (2.4.6)\n",
      "Requirement already satisfied: pillow>=6.2.0 in c:\\anacond_install\\lib\\site-packages (from matplotlib>=3.3.3->evalml) (7.0.0)\n",
      "Requirement already satisfied: cycler>=0.10 in c:\\anacond_install\\lib\\site-packages (from matplotlib>=3.3.3->evalml) (0.10.0)\n",
      "Requirement already satisfied: kiwisolver>=1.0.1 in c:\\anacond_install\\lib\\site-packages (from matplotlib>=3.3.3->evalml) (1.1.0)\n",
      "Requirement already satisfied: python-dateutil>=2.7 in c:\\anacond_install\\lib\\site-packages (from matplotlib>=3.3.3->evalml) (2.8.1)\n",
      "Requirement already satisfied: wheel in c:\\anacond_install\\lib\\site-packages (from sktime>=0.5.3; python_version < \"3.9\"->evalml) (0.34.2)\n",
      "Requirement already satisfied: widgetsnbextension~=3.5.0 in c:\\anacond_install\\lib\\site-packages (from ipywidgets>=7.5->evalml) (3.5.1)\n",
      "Requirement already satisfied: ipykernel>=4.5.1 in c:\\anacond_install\\lib\\site-packages (from ipywidgets>=7.5->evalml) (5.1.4)\n",
      "Requirement already satisfied: nbformat>=4.2.0 in c:\\anacond_install\\lib\\site-packages (from ipywidgets>=7.5->evalml) (5.0.4)\n",
      "Requirement already satisfied: ipython>=4.0.0; python_version >= \"3.3\" in c:\\anacond_install\\lib\\site-packages (from ipywidgets>=7.5->evalml) (7.12.0)\n",
      "Requirement already satisfied: traitlets>=4.3.1 in c:\\anacond_install\\lib\\site-packages (from ipywidgets>=7.5->evalml) (4.3.3)\n",
      "Requirement already satisfied: pytz>=2017.3 in c:\\anacond_install\\lib\\site-packages (from pandas>=1.2.1->evalml) (2019.3)\n",
      "Requirement already satisfied: nltk>=3.4.5 in c:\\anacond_install\\lib\\site-packages (from nlp-primitives>=1.1.0->evalml) (3.4.5)\n",
      "Requirement already satisfied: Cython<0.29.18,>=0.29 in c:\\anacond_install\\lib\\site-packages (from pmdarima==1.8.0->evalml) (0.29.15)\n",
      "Requirement already satisfied: urllib3 in c:\\anacond_install\\lib\\site-packages (from pmdarima==1.8.0->evalml) (1.25.8)\n",
      "Requirement already satisfied: setuptools!=50.0.0,>=38.6.0 in c:\\anacond_install\\lib\\site-packages (from pmdarima==1.8.0->evalml) (45.2.0.post20200210)\n",
      "Requirement already satisfied: decorator<5,>=4.3 in c:\\anacond_install\\lib\\site-packages (from networkx>=2.5->evalml) (4.4.1)\n",
      "Requirement already satisfied: locket in c:\\anacond_install\\lib\\site-packages (from partd>=0.3.10->dask>=2.12.0->evalml) (0.2.0)\n",
      "Requirement already satisfied: llvmlite<0.32.0,>=0.31.0dev0 in c:\\anacond_install\\lib\\site-packages (from numba->shap>=0.36.0->evalml) (0.31.0)\n",
      "Requirement already satisfied: msgpack>=0.6.0 in c:\\anacond_install\\lib\\site-packages (from distributed>=2.12.0->featuretools>=0.21.0->evalml) (0.6.1)\n",
      "Requirement already satisfied: tornado>=5; python_version < \"3.8\" in c:\\anacond_install\\lib\\site-packages (from distributed>=2.12.0->featuretools>=0.21.0->evalml) (6.0.3)\n",
      "Requirement already satisfied: tblib>=1.6.0 in c:\\anacond_install\\lib\\site-packages (from distributed>=2.12.0->featuretools>=0.21.0->evalml) (1.6.0)\n",
      "Requirement already satisfied: zict>=0.1.3 in c:\\anacond_install\\lib\\site-packages (from distributed>=2.12.0->featuretools>=0.21.0->evalml) (1.0.0)\n",
      "Requirement already satisfied: sortedcontainers!=2.0.0,!=2.0.1 in c:\\anacond_install\\lib\\site-packages (from distributed>=2.12.0->featuretools>=0.21.0->evalml) (2.1.0)\n",
      "Requirement already satisfied: zipp>=0.5 in c:\\anacond_install\\lib\\site-packages (from importlib-metadata; python_version < \"3.8\"->click>=7.1.2->evalml) (2.2.0)\n",
      "Requirement already satisfied: notebook>=4.4.1 in c:\\anacond_install\\lib\\site-packages (from widgetsnbextension~=3.5.0->ipywidgets>=7.5->evalml) (6.0.3)\n",
      "Requirement already satisfied: jupyter-client in c:\\anacond_install\\lib\\site-packages (from ipykernel>=4.5.1->ipywidgets>=7.5->evalml) (5.3.4)\n",
      "Requirement already satisfied: jupyter-core in c:\\anacond_install\\lib\\site-packages (from nbformat>=4.2.0->ipywidgets>=7.5->evalml) (4.6.1)\n",
      "Requirement already satisfied: ipython-genutils in c:\\anacond_install\\lib\\site-packages (from nbformat>=4.2.0->ipywidgets>=7.5->evalml) (0.2.0)\n",
      "Requirement already satisfied: jsonschema!=2.5.0,>=2.4 in c:\\anacond_install\\lib\\site-packages (from nbformat>=4.2.0->ipywidgets>=7.5->evalml) (3.2.0)\n",
      "Requirement already satisfied: backcall in c:\\anacond_install\\lib\\site-packages (from ipython>=4.0.0; python_version >= \"3.3\"->ipywidgets>=7.5->evalml) (0.1.0)\n",
      "Requirement already satisfied: pickleshare in c:\\anacond_install\\lib\\site-packages (from ipython>=4.0.0; python_version >= \"3.3\"->ipywidgets>=7.5->evalml) (0.7.5)\n",
      "Requirement already satisfied: jedi>=0.10 in c:\\anacond_install\\lib\\site-packages (from ipython>=4.0.0; python_version >= \"3.3\"->ipywidgets>=7.5->evalml) (0.14.1)\n",
      "Requirement already satisfied: prompt-toolkit!=3.0.0,!=3.0.1,<3.1.0,>=2.0.0 in c:\\anacond_install\\lib\\site-packages (from ipython>=4.0.0; python_version >= \"3.3\"->ipywidgets>=7.5->evalml) (3.0.3)\n",
      "Requirement already satisfied: pygments in c:\\anacond_install\\lib\\site-packages (from ipython>=4.0.0; python_version >= \"3.3\"->ipywidgets>=7.5->evalml) (2.5.2)\n",
      "Requirement already satisfied: heapdict in c:\\anacond_install\\lib\\site-packages (from zict>=0.1.3->distributed>=2.12.0->featuretools>=0.21.0->evalml) (1.0.1)\n",
      "Requirement already satisfied: terminado>=0.8.1 in c:\\anacond_install\\lib\\site-packages (from notebook>=4.4.1->widgetsnbextension~=3.5.0->ipywidgets>=7.5->evalml) (0.8.3)\n",
      "Requirement already satisfied: prometheus-client in c:\\anacond_install\\lib\\site-packages (from notebook>=4.4.1->widgetsnbextension~=3.5.0->ipywidgets>=7.5->evalml) (0.7.1)\n",
      "Requirement already satisfied: jinja2 in c:\\anacond_install\\lib\\site-packages (from notebook>=4.4.1->widgetsnbextension~=3.5.0->ipywidgets>=7.5->evalml) (2.11.1)\n",
      "Requirement already satisfied: nbconvert in c:\\anacond_install\\lib\\site-packages (from notebook>=4.4.1->widgetsnbextension~=3.5.0->ipywidgets>=7.5->evalml) (5.6.1)\n",
      "Requirement already satisfied: Send2Trash in c:\\anacond_install\\lib\\site-packages (from notebook>=4.4.1->widgetsnbextension~=3.5.0->ipywidgets>=7.5->evalml) (1.5.0)\n",
      "Requirement already satisfied: pywin32>=1.0; sys_platform == \"win32\" in c:\\anacond_install\\lib\\site-packages (from jupyter-client->ipykernel>=4.5.1->ipywidgets>=7.5->evalml) (227)\n",
      "Requirement already satisfied: attrs>=17.4.0 in c:\\anacond_install\\lib\\site-packages (from jsonschema!=2.5.0,>=2.4->nbformat>=4.2.0->ipywidgets>=7.5->evalml) (19.3.0)\n",
      "Requirement already satisfied: pyrsistent>=0.14.0 in c:\\anacond_install\\lib\\site-packages (from jsonschema!=2.5.0,>=2.4->nbformat>=4.2.0->ipywidgets>=7.5->evalml) (0.15.7)\n",
      "Requirement already satisfied: parso>=0.5.0 in c:\\anacond_install\\lib\\site-packages (from jedi>=0.10->ipython>=4.0.0; python_version >= \"3.3\"->ipywidgets>=7.5->evalml) (0.5.2)\n",
      "Requirement already satisfied: wcwidth in c:\\anacond_install\\lib\\site-packages (from prompt-toolkit!=3.0.0,!=3.0.1,<3.1.0,>=2.0.0->ipython>=4.0.0; python_version >= \"3.3\"->ipywidgets>=7.5->evalml) (0.1.8)\n",
      "Requirement already satisfied: MarkupSafe>=0.23 in c:\\anacond_install\\lib\\site-packages (from jinja2->notebook>=4.4.1->widgetsnbextension~=3.5.0->ipywidgets>=7.5->evalml) (1.1.1)\n",
      "Requirement already satisfied: bleach in c:\\anacond_install\\lib\\site-packages (from nbconvert->notebook>=4.4.1->widgetsnbextension~=3.5.0->ipywidgets>=7.5->evalml) (3.1.0)\n",
      "Requirement already satisfied: defusedxml in c:\\anacond_install\\lib\\site-packages (from nbconvert->notebook>=4.4.1->widgetsnbextension~=3.5.0->ipywidgets>=7.5->evalml) (0.6.0)\n",
      "Requirement already satisfied: testpath in c:\\anacond_install\\lib\\site-packages (from nbconvert->notebook>=4.4.1->widgetsnbextension~=3.5.0->ipywidgets>=7.5->evalml) (0.4.4)\n",
      "Requirement already satisfied: entrypoints>=0.2.2 in c:\\anacond_install\\lib\\site-packages (from nbconvert->notebook>=4.4.1->widgetsnbextension~=3.5.0->ipywidgets>=7.5->evalml) (0.3)\n",
      "Requirement already satisfied: pandocfilters>=1.4.1 in c:\\anacond_install\\lib\\site-packages (from nbconvert->notebook>=4.4.1->widgetsnbextension~=3.5.0->ipywidgets>=7.5->evalml) (1.4.2)\n",
      "Requirement already satisfied: mistune<2,>=0.8.1 in c:\\anacond_install\\lib\\site-packages (from nbconvert->notebook>=4.4.1->widgetsnbextension~=3.5.0->ipywidgets>=7.5->evalml) (0.8.4)\n",
      "Requirement already satisfied: webencodings in c:\\anacond_install\\lib\\site-packages (from bleach->nbconvert->notebook>=4.4.1->widgetsnbextension~=3.5.0->ipywidgets>=7.5->evalml) (0.5.1)\n",
      "Installing collected packages: matplotlib, catboost, texttable, pyaml, scikit-optimize, category-encoders, slicer, shap, sktime, requirements-parser, xgboost, pmdarima, seaborn, lightgbm, evalml\n",
      "  Attempting uninstall: matplotlib\n",
      "    Found existing installation: matplotlib 3.1.3\n",
      "    Uninstalling matplotlib-3.1.3:\n",
      "Note: you may need to restart the kernel to use updated packages.\n"
     ]
    },
    {
     "name": "stderr",
     "output_type": "stream",
     "text": [
      "ERROR: sktime 0.6.1 has requirement numba>=0.50, but you'll have numba 0.48.0 which is incompatible.\n",
      "ERROR: Could not install packages due to an EnvironmentError: [WinError 5] Access is denied: 'c:\\\\anacond_install\\\\lib\\\\site-packages\\\\matplotlib\\\\backends\\\\_backend_agg.cp37-win_amd64.pyd'\n",
      "Consider using the `--user` option or check the permissions.\n",
      "\n"
     ]
    }
   ],
   "source": [
    "pip install evalml"
   ]
  },
  {
   "cell_type": "code",
   "execution_count": 58,
   "metadata": {},
   "outputs": [
    {
     "ename": "ModuleNotFoundError",
     "evalue": "No module named 'evalml'",
     "output_type": "error",
     "traceback": [
      "\u001b[1;31m---------------------------------------------------------------------------\u001b[0m",
      "\u001b[1;31mModuleNotFoundError\u001b[0m                       Traceback (most recent call last)",
      "\u001b[1;32m<ipython-input-58-497cea0f742e>\u001b[0m in \u001b[0;36m<module>\u001b[1;34m\u001b[0m\n\u001b[1;32m----> 1\u001b[1;33m \u001b[1;32mimport\u001b[0m \u001b[0mevalml\u001b[0m\u001b[1;33m\u001b[0m\u001b[1;33m\u001b[0m\u001b[0m\n\u001b[0m",
      "\u001b[1;31mModuleNotFoundError\u001b[0m: No module named 'evalml'"
     ]
    }
   ],
   "source": [
    "import evalml"
   ]
  },
  {
   "cell_type": "code",
   "execution_count": null,
   "metadata": {},
   "outputs": [],
   "source": []
  }
 ],
 "metadata": {
  "kernelspec": {
   "display_name": "Python 3",
   "language": "python",
   "name": "python3"
  },
  "language_info": {
   "codemirror_mode": {
    "name": "ipython",
    "version": 3
   },
   "file_extension": ".py",
   "mimetype": "text/x-python",
   "name": "python",
   "nbconvert_exporter": "python",
   "pygments_lexer": "ipython3",
   "version": "3.7.6"
  }
 },
 "nbformat": 4,
 "nbformat_minor": 4
}
